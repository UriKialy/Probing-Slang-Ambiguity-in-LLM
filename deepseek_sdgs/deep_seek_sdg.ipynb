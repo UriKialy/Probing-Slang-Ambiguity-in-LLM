{
 "cells": [
  {
   "cell_type": "code",
   "id": "initial_id",
   "metadata": {
    "collapsed": true,
    "ExecuteTime": {
     "end_time": "2025-06-04T00:38:03.156548Z",
     "start_time": "2025-06-04T00:38:01.332229Z"
    }
   },
   "source": [
    "# -------------------------------------------\n",
    "# 0.  Install / import dependencies\n",
    "# -------------------------------------------\n",
    "# !pip install --quiet openai>=1.3 pandas tqdm tenacity\n",
    "\n",
    "import os, re, random, time, json\n",
    "import pandas as pd\n",
    "from tqdm.auto import tqdm\n",
    "from tenacity import retry, stop_after_attempt, wait_random_exponential\n",
    "import openai"
   ],
   "outputs": [
    {
     "name": "stderr",
     "output_type": "stream",
     "text": [
      "C:\\Users\\yozev\\AppData\\Roaming\\Python\\Python311\\site-packages\\pandas\\core\\arrays\\masked.py:60: UserWarning: Pandas requires version '1.3.6' or newer of 'bottleneck' (version '1.3.5' currently installed).\n",
      "  from pandas.core import (\n"
     ]
    }
   ],
   "execution_count": 1
  },
  {
   "metadata": {
    "ExecuteTime": {
     "end_time": "2025-06-04T00:38:03.163556Z",
     "start_time": "2025-06-04T00:38:03.158565Z"
    }
   },
   "cell_type": "code",
   "source": [
    "# -------------------------------------------\n",
    "# 1.  Configure DeepSeek API\n",
    "# -------------------------------------------\n",
    "import openai\n",
    "from keys_do_not_upload import open_AI_key\n",
    "openai.api_key = open_AI_key\n",
    "openai.base_url = \"https://api.deepseek.com\"\n",
    "\n",
    "MODEL_NAME = \"deepseek-chat\"   \n",
    "TEMPERATURE = 0.9\n",
    "N_SAMPLES = 5000\n"
   ],
   "id": "fdd302a6cbd948a6",
   "outputs": [],
   "execution_count": 2
  },
  {
   "metadata": {
    "ExecuteTime": {
     "end_time": "2025-06-04T00:38:03.248039Z",
     "start_time": "2025-06-04T00:38:03.238928Z"
    }
   },
   "cell_type": "code",
   "source": [
    "# -------------------------------------------\n",
    "# 2.  Word list & helpers\n",
    "# -------------------------------------------\n",
    "slang_words = [\n",
    "    \"bad\", \"bang\", \"beat\", \"bet\", \"blow\", \"bomb\", \"booked\", \"bounce\", \"bread\", \"broke\",\n",
    "    \"burn\", \"buzz\", \"calm\", \"cap\", \"catch\", \"check\", \"chef\", \"chill\", \"clap\", \"clean\",\n",
    "    \"clutch\", \"cold\", \"come\", \"cook\", \"cool\", \"crack\", \"cringe\", \"cut\", \"dank\", \"dark\",\n",
    "    \"dead\", \"deadass\", \"dope\", \"drag\", \"draw\", \"drip\", \"drop\", \"dust\", \"extra\", \"fam\",\n",
    "    \"fire\", \"fit\", \"flex\", \"gas\", \"ghost\", \"glow\", \"grind\", \"grub\", \"hard\", \"hater\",\n",
    "    \"head\", \"hit\", \"hot\", \"jam\", \"kick\", \"kill\", \"light\", \"link\", \"lit\", \"live\",\n",
    "    \"loaded\", \"long\", \"loop\", \"loud\", \"lowkey\", \"mad\", \"man\", \"mood\", \"move\", \"off\",\n",
    "    \"peak\", \"pop\", \"press\", \"pressed\", \"pull\", \"quiet\", \"ride\", \"ripped\", \"roll\", \"run\",\n",
    "    \"safe\", \"salty\", \"savage\", \"secure\", \"serve\", \"shade\", \"shook\", \"sick\", \"slaps\",\n",
    "    \"slay\", \"slide\", \"smoke\", \"snap\", \"snack\", \"soft\", \"spill\", \"squad\", \"stack\",\n",
    "    \"stale\", \"stan\", \"stick\", \"sus\", \"swag\", \"tea\", \"thick\", \"thin\", \"thirsty\", \"tight\",\n",
    "    \"ting\", \"tool\", \"touch\", \"trash\", \"trip\", \"turnt\", \"vibe\", \"wave\", \"wet\", \"whip\",\n",
    "    \"woke\", \"work\", \"bag\", \"bars\", \"base\", \"brick\", \"cake\", \"cheese\", \"dash\", \"dip\",\n",
    "    \"fade\", \"game\", \"heat\", \"ice\", \"juice\", \"plug\", \"poppin\", \"rack\", \"sauce\", \"score\",\n",
    "    \"shine\", \"trap\"\n",
    "]\n",
    "\n",
    "word_pattern = {w: re.compile(rf\"\\b{re.escape(w)}\\b\", re.IGNORECASE) for w in slang_words}\n",
    "\n",
    "\n",
    "@retry(stop=stop_after_attempt(6), wait=wait_random_exponential(multiplier=1, max=20))\n",
    "def deepseek_sentence(word: str, slang: bool) -> str:\n",
    "    \"\"\"Call DeepSeek to generate a single sentence for one word.\"\"\"\n",
    "    sense = \"modern slang sense\" if slang else \"its standard, literal meaning (not slang)\"\n",
    "    prompt = (\n",
    "        f\"Write one original, fluent English sentence that *contains* the word “{word}” \"\n",
    "        f\"used in {sense}. Output **only** the sentence, no explanations or quotes.\"\n",
    "    )\n",
    "\n",
    "    response = openai.chat.completions.create(\n",
    "        model=MODEL_NAME,\n",
    "        messages=[\n",
    "            {\"role\": \"system\", \"content\": \"You are a creative writer.\"},\n",
    "            {\"role\": \"user\", \"content\": prompt}\n",
    "        ],\n",
    "        temperature=TEMPERATURE,\n",
    "        max_tokens=50,\n",
    "        top_p=0.95\n",
    "    )\n",
    "    sentence = response.choices[0].message.content.strip()\n",
    "\n",
    "    # Basic sanity checks\n",
    "    if not word_pattern[word].search(sentence):\n",
    "        raise ValueError(\"Target word not found, retrying.\")\n",
    "    if len(sentence.split()) < 3:\n",
    "        raise ValueError(\"Sentence too short, retrying.\")\n",
    "    return sentence"
   ],
   "id": "4e2bab72aca97801",
   "outputs": [],
   "execution_count": 3
  },
  {
   "metadata": {
    "jupyter": {
     "is_executing": true
    },
    "ExecuteTime": {
     "start_time": "2025-06-04T00:38:03.258668Z"
    }
   },
   "cell_type": "code",
   "source": [
    "# -------------------------------------------\n",
    "# 3.  Main generation loop\n",
    "# -------------------------------------------\n",
    "samples = []\n",
    "seen_sentences = set()\n",
    "\n",
    "pbar = tqdm(total=N_SAMPLES, desc=\"Generating dataset\")\n",
    "\n",
    "while len(samples) < N_SAMPLES:\n",
    "    w = random.choice(slang_words)\n",
    "    is_slang = random.random() < 0.5           # roughly balanced\n",
    "    try:\n",
    "        s = deepseek_sentence(w, is_slang)\n",
    "        if s.lower() in seen_sentences:\n",
    "            continue\n",
    "        samples.append({\"sentence\": s, \"is_slang\": int(is_slang)})\n",
    "        seen_sentences.add(s.lower())\n",
    "        pbar.update(1)\n",
    "    except Exception as e:\n",
    "        # most errors are handled by `tenacity`\n",
    "        continue\n",
    "\n",
    "pbar.close()"
   ],
   "id": "f7ddbebb92316c19",
   "outputs": [
    {
     "data": {
      "text/plain": [
       "Generating dataset:   0%|          | 0/5000 [00:00<?, ?it/s]"
      ],
      "application/vnd.jupyter.widget-view+json": {
       "version_major": 2,
       "version_minor": 0,
       "model_id": "06e168c5e08b4125b4d9d7f9aa646141"
      }
     },
     "metadata": {},
     "output_type": "display_data"
    }
   ],
   "execution_count": null
  },
  {
   "metadata": {
    "ExecuteTime": {
     "end_time": "2025-06-03T04:36:13.560466Z",
     "start_time": "2025-06-03T04:36:13.225607Z"
    }
   },
   "cell_type": "code",
   "source": [
    "# -------------------------------------------\n",
    "# 4.  Save to CSV (and inspect)\n",
    "# -------------------------------------------\n",
    "df = pd.DataFrame(samples)\n",
    "df.to_csv(\"slang_benchmark.csv\", index=False)\n",
    "df.head()\n"
   ],
   "id": "7c5a8055631b9125",
   "outputs": [
    {
     "ename": "NameError",
     "evalue": "name 'pd' is not defined",
     "output_type": "error",
     "traceback": [
      "\u001B[1;31m---------------------------------------------------------------------------\u001B[0m",
      "\u001B[1;31mNameError\u001B[0m                                 Traceback (most recent call last)",
      "Cell \u001B[1;32mIn[1], line 4\u001B[0m\n\u001B[0;32m      1\u001B[0m \u001B[38;5;66;03m# -------------------------------------------\u001B[39;00m\n\u001B[0;32m      2\u001B[0m \u001B[38;5;66;03m# 4.  Save to CSV (and inspect)\u001B[39;00m\n\u001B[0;32m      3\u001B[0m \u001B[38;5;66;03m# -------------------------------------------\u001B[39;00m\n\u001B[1;32m----> 4\u001B[0m df \u001B[38;5;241m=\u001B[39m pd\u001B[38;5;241m.\u001B[39mDataFrame(samples)\n\u001B[0;32m      5\u001B[0m df\u001B[38;5;241m.\u001B[39mto_csv(\u001B[38;5;124m\"\u001B[39m\u001B[38;5;124mslang_benchmark.csv\u001B[39m\u001B[38;5;124m\"\u001B[39m, index\u001B[38;5;241m=\u001B[39m\u001B[38;5;28;01mFalse\u001B[39;00m)\n\u001B[0;32m      6\u001B[0m df\u001B[38;5;241m.\u001B[39mhead()\n",
      "\u001B[1;31mNameError\u001B[0m: name 'pd' is not defined"
     ]
    }
   ],
   "execution_count": 1
  },
  {
   "metadata": {},
   "cell_type": "code",
   "outputs": [],
   "execution_count": null,
   "source": [],
   "id": "2cdb0a088726269c"
  }
 ],
 "metadata": {
  "kernelspec": {
   "display_name": "Python 3",
   "language": "python",
   "name": "python3"
  },
  "language_info": {
   "codemirror_mode": {
    "name": "ipython",
    "version": 2
   },
   "file_extension": ".py",
   "mimetype": "text/x-python",
   "name": "python",
   "nbconvert_exporter": "python",
   "pygments_lexer": "ipython2",
   "version": "2.7.6"
  }
 },
 "nbformat": 4,
 "nbformat_minor": 5
}
