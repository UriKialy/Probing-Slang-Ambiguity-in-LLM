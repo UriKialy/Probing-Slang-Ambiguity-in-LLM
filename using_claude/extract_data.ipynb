{
 "cells": [
  {
   "cell_type": "code",
   "id": "initial_id",
   "metadata": {
    "collapsed": true,
    "ExecuteTime": {
     "end_time": "2025-06-03T21:40:42.600361Z",
     "start_time": "2025-06-03T21:40:42.187014Z"
    }
   },
   "source": [
    "import pandas as pd\n",
    "import csv\n",
    "\n",
    "# Path to the Markdown file\n",
    "md_file_path = 'manual_slang_dataset.md'\n",
    "\n",
    "# Read all lines from the Markdown file\n",
    "with open(md_file_path, 'r', encoding='utf-8') as file:\n",
    "    lines = file.readlines()\n",
    "\n",
    "# Filter lines that start with a quotation mark (\")\n",
    "entries = [line.strip() for line in lines if line.strip().startswith('\"')]\n",
    "\n",
    "# Parse each entry using csv.reader to handle commas within sentences\n",
    "reader = csv.reader(entries)\n",
    "data = []\n",
    "for sentence, label in reader:\n",
    "    binary_label = 1 if label.lower() == 'slang' else 0\n",
    "    data.append((sentence, binary_label))\n",
    "\n",
    "# Create DataFrame\n",
    "df = pd.DataFrame(data, columns=['sentence', 'binary'])\n",
    "\n",
    "# Save to CSV\n",
    "csv_output_path = 'manual_slang_dataset.csv'\n",
    "df.to_csv(csv_output_path, index=False)\n",
    "\n",
    "print(\"Saved to:\", csv_output_path)\n",
    "print(df.head())\n"
   ],
   "outputs": [
    {
     "name": "stderr",
     "output_type": "stream",
     "text": [
      "C:\\Users\\yozev\\AppData\\Roaming\\Python\\Python311\\site-packages\\pandas\\core\\arrays\\masked.py:60: UserWarning: Pandas requires version '1.3.6' or newer of 'bottleneck' (version '1.3.5' currently installed).\n",
      "  from pandas.core import (\n"
     ]
    },
    {
     "name": "stdout",
     "output_type": "stream",
     "text": [
      "Saved to: manual_slang_dataset.csv\n",
      "                                            sentence  binary\n",
      "0  That new song is absolutely fire, I can't stop...       1\n",
      "1  The fire department responded quickly to the h...       0\n",
      "2  Your outfit is so bad, everyone's going to be ...       1\n",
      "3   I got a bad grade on my chemistry test yesterday       0\n",
      "4   She killed that performance, the crowd went wild       1\n"
     ]
    }
   ],
   "execution_count": 1
  }
 ],
 "metadata": {
  "kernelspec": {
   "display_name": "Python 3",
   "language": "python",
   "name": "python3"
  },
  "language_info": {
   "codemirror_mode": {
    "name": "ipython",
    "version": 2
   },
   "file_extension": ".py",
   "mimetype": "text/x-python",
   "name": "python",
   "nbconvert_exporter": "python",
   "pygments_lexer": "ipython2",
   "version": "2.7.6"
  }
 },
 "nbformat": 4,
 "nbformat_minor": 5
}
