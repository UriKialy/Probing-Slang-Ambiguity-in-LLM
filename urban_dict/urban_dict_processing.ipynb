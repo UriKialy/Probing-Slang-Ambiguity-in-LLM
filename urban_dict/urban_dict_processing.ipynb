{
 "cells": [
  {
   "cell_type": "code",
   "id": "initial_id",
   "metadata": {
    "collapsed": true,
    "ExecuteTime": {
     "end_time": "2025-06-03T16:50:41.458183Z",
     "start_time": "2025-06-03T16:50:41.451553Z"
    }
   },
   "source": [
    "import pandas as pd\n",
    "\n",
    "# Define the list of slang words\n",
    "slang_words = [\n",
    "    \"bad\", \"bang\", \"beat\", \"bet\", \"blow\", \"bomb\", \"booked\", \"bounce\", \"bread\", \"broke\",\n",
    "    \"burn\", \"buzz\", \"calm\", \"cap\", \"catch\", \"check\", \"chef\", \"chill\", \"clap\", \"clean\",\n",
    "    \"clutch\", \"cold\", \"come\", \"cook\", \"cool\", \"crack\", \"cringe\", \"cut\", \"dank\", \"dark\",\n",
    "    \"dead\", \"deadass\", \"dope\", \"drag\", \"draw\", \"drip\", \"drop\", \"dust\", \"extra\", \"fam\",\n",
    "    \"fire\", \"fit\", \"flex\", \"gas\", \"ghost\", \"glow\", \"grind\", \"grub\", \"hard\", \"hater\",\n",
    "    \"head\", \"hit\", \"hot\", \"jam\", \"kick\", \"kill\", \"light\", \"link\", \"lit\", \"live\",\n",
    "    \"loaded\", \"long\", \"loop\", \"loud\", \"lowkey\", \"mad\", \"man\", \"mood\", \"move\", \"off\",\n",
    "    \"peak\", \"pop\", \"press\", \"pressed\", \"pull\", \"quiet\", \"ride\", \"ripped\", \"roll\", \"run\",\n",
    "    \"safe\", \"salty\", \"savage\", \"secure\", \"serve\", \"shade\", \"shook\", \"sick\", \"slaps\",\n",
    "    \"slay\", \"slide\", \"smoke\", \"snap\", \"snack\", \"soft\", \"spill\", \"squad\", \"stack\",\n",
    "    \"stale\", \"stan\", \"stick\", \"sus\", \"swag\", \"tea\", \"thick\", \"thin\", \"thirsty\", \"tight\",\n",
    "    \"ting\", \"tool\", \"touch\", \"trash\", \"trip\", \"turnt\", \"vibe\", \"wave\", \"wet\", \"whip\",\n",
    "    \"woke\", \"work\", \"bag\", \"bars\", \"base\", \"brick\", \"cake\", \"cheese\", \"dash\", \"dip\",\n",
    "    \"fade\", \"game\", \"heat\", \"ice\", \"juice\", \"plug\", \"poppin\", \"rack\", \"sauce\", \"score\",\n",
    "    \"shine\", \"trap\"\n",
    "]\n",
    "print(len(slang_words))"
   ],
   "outputs": [
    {
     "name": "stdout",
     "output_type": "stream",
     "text": [
      "140\n"
     ]
    }
   ],
   "execution_count": 6
  },
  {
   "metadata": {
    "ExecuteTime": {
     "end_time": "2025-06-03T16:48:13.040735Z",
     "start_time": "2025-06-03T16:48:12.559852Z"
    }
   },
   "cell_type": "code",
   "source": [
    "# Load the CSV file\n",
    "file_path = r\"C:\\Users\\yozev\\PycharmProjects\\Slang_in_LLMs\\urban_dictionary.csv\"\n",
    "df = pd.read_csv(file_path)\n",
    "\n",
    "# Normalize the 'word' column to lowercase for matching\n",
    "df['word_lower'] = df['word'].str.lower()\n",
    "\n",
    "# Filter rows where the 'word' is in the slang_words list\n",
    "filtered_df = df[df['word_lower'].isin(slang_words)].copy()\n",
    "\n",
    "# Drop rows without an example sentence (optional)\n",
    "filtered_df = filtered_df.dropna(subset=['example'])\n",
    "\n",
    "# Create the final DataFrame with only 'sentence' and 'slang' columns\n",
    "result_df = pd.DataFrame({\n",
    "    'sentence': filtered_df['example'],\n",
    "    'slang': True\n",
    "})\n",
    "\n",
    "# Save the result to a new CSV file\n",
    "output_path = r\"C:\\Users\\yozev\\PycharmProjects\\Slang_in_LLMs\\filtered_slang.csv\"\n",
    "result_df.to_csv(output_path, index=False)\n",
    "\n",
    "print(f\"Filtered data saved to: {output_path}\")\n"
   ],
   "id": "59003aab2fbd3f4f",
   "outputs": [
    {
     "name": "stdout",
     "output_type": "stream",
     "text": [
      "Filtered data saved to: C:\\Users\\yozev\\PycharmProjects\\Slang_in_LLMs\\filtered_slang.csv\n"
     ]
    }
   ],
   "execution_count": 5
  }
 ],
 "metadata": {
  "kernelspec": {
   "display_name": "Python 3",
   "language": "python",
   "name": "python3"
  },
  "language_info": {
   "codemirror_mode": {
    "name": "ipython",
    "version": 2
   },
   "file_extension": ".py",
   "mimetype": "text/x-python",
   "name": "python",
   "nbconvert_exporter": "python",
   "pygments_lexer": "ipython2",
   "version": "2.7.6"
  }
 },
 "nbformat": 4,
 "nbformat_minor": 5
}
