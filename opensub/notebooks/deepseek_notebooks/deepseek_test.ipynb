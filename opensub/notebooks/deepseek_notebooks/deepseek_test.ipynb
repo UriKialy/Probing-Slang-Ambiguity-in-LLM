{
 "cells": [
  {
   "cell_type": "code",
   "execution_count": null,
   "id": "initial_id",
   "metadata": {
    "collapsed": true,
    "is_executing": true
   },
   "outputs": [],
   "source": [
    "# Cell 1: Import necessary libraries\n",
    "import pandas as pd\n",
    "import requests\n",
    "from tqdm import tqdm\n",
    "import matplotlib.pyplot as plt\n",
    "from keys_do_not_upload import deepseek_API_key,deepseek_authenticator"
   ]
  },
  {
   "cell_type": "code",
   "outputs": [],
   "source": [
    "# Cell 2: Load dataset\n",
    "# Assuming it's in CSV format\n",
    "df = pd.read_csv(\"your_dataset.csv\")\n",
    "\n",
    "# Retain only the relevant columns\n",
    "df = df[['sentence', 'full context', 'slang term', 'annotator confidence']].copy()\n",
    "df.columns = ['sentence', 'context', 'slang', 'confidence']\n",
    "\n",
    "# Cell 3: Define function to call DeepSeek API\n",
    "API_KEY = deepseek_API_key\n",
    "API_URL = \"https://api.deepseek.com/v1/chat/completions\"  # adjust if needed\n",
    "\n",
    "headers = {\n",
    "    \"Content-Type\": \"application/json\",\n",
    "    \"Authorization\": f\"Bearer {deepseek_authenticator }\"\n",
    "}\n",
    "\n",
    "def ask_deepseek_is_slang(slang_term, context):\n",
    "    prompt = f\"In the following context, is the word '{slang_term}' used as a slang expression? Reply with only 'Yes' or 'No'.\\n\\nContext:\\n{context}\"\n",
    "    \n",
    "    payload = {\n",
    "        \"model\": \"deepseek-chat\",  \n",
    "        \"messages\": [\n",
    "            {\"role\": \"user\", \"content\": prompt}\n",
    "        ]\n",
    "    }\n",
    "\n",
    "    try:\n",
    "        response = requests.post(API_URL, headers=headers, json=payload)\n",
    "        response.raise_for_status()\n",
    "        reply = response.json()['choices'][0]['message']['content'].strip().lower()\n",
    "        return 'yes' in reply\n",
    "    except Exception as e:\n",
    "        print(f\"Error: {e}\")\n",
    "        return None\n",
    "\n",
    "# Cell 4: Apply DeepSeek to the dataset\n",
    "results = []\n",
    "for idx, row in tqdm(df.iterrows(), total=len(df)):\n",
    "    is_slang = ask_deepseek_is_slang(row['slang'], row['context'])\n",
    "    results.append(is_slang)\n",
    "\n",
    "df['deepseek_slang'] = results\n",
    "\n",
    "# Drop any rows where API failed (None)\n",
    "df = df[df['deepseek_slang'].notnull()]\n",
    "\n",
    "# Cell 5: Calculate accuracy according to annotator confidence\n",
    "# Convert confidence to a weight\n",
    "df['weight'] = df['confidence'].astype(int)\n",
    "\n",
    "# DeepSeek is binary: 1 if slang, 0 if not\n",
    "df['deepseek_binary'] = df['deepseek_slang'].astype(int)\n",
    "\n",
    "# Since all are labeled as slang in the dataset, DeepSeek should ideally say 'yes'\n",
    "df['correct'] = df['deepseek_binary']\n",
    "\n",
    "# Weighted accuracy\n",
    "total_weight = df['weight'].sum()\n",
    "correct_weight = (df['correct'] * df['weight']).sum()\n",
    "accuracy = correct_weight / total_weight\n",
    "\n",
    "print(f\"Weighted Accuracy: {accuracy:.3f}\")\n",
    "\n",
    "# Cell 6:  Visual breakdown\n",
    "df['conf_label'] = df['confidence'].map({1: 'Low', 2: 'Medium', 3: 'High'})\n",
    "grouped = df.groupby('conf_label').apply(lambda x: (x['correct'] * x['weight']).sum() / x['weight'].sum())\n",
    "\n",
    "grouped.plot(kind='bar', title='Accuracy by Annotator Confidence Level', ylabel='Accuracy')\n",
    "plt.show()"
   ],
   "metadata": {
    "collapsed": false,
    "is_executing": true
   },
   "id": "8d83c09cdda50173"
  },
  {
   "cell_type": "code",
   "outputs": [],
   "source": [],
   "metadata": {
    "collapsed": false
   },
   "id": "4e028174a88ae2bd"
  }
 ],
 "metadata": {
  "kernelspec": {
   "display_name": "Python 3",
   "language": "python",
   "name": "python3"
  },
  "language_info": {
   "codemirror_mode": {
    "name": "ipython",
    "version": 2
   },
   "file_extension": ".py",
   "mimetype": "text/x-python",
   "name": "python",
   "nbconvert_exporter": "python",
   "pygments_lexer": "ipython2",
   "version": "2.7.6"
  }
 },
 "nbformat": 4,
 "nbformat_minor": 5
}
