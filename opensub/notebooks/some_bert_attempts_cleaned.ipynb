{
 "cells": [
  {
   "cell_type": "markdown",
   "metadata": {
    "id": "wjJDkleiwVbV"
   },
   "source": [
    "# ***Facebook/bart-large-mnli zero-shot accuracy***"
   ]
  },
  {
   "cell_type": "code",
   "execution_count": 3,
   "metadata": {
    "colab": {
     "base_uri": "https://localhost:8080/",
     "height": 393,
     "referenced_widgets": [
      "10fe9af633ea444ba3ae7363f56396a4",
      "730a1ced176d48a2a11400c0a3425cdb",
      "56897e5d1d4e4e588269aa0a25e76b3c",
      "c750f530356c4f97b368fb264f090ec1",
      "d2ee3e2c185a46f7bbe38220a39479b8",
      "478b9911abfe4a06a210073c1f271f60",
      "e9ffe5015af542be8867a99b84877041",
      "9c05d0f1df484cbb8f2949436ef88877",
      "50280386463c47b0b40ef322001184be",
      "0be93265ac2e4f4bad3f86b19c3b7fb9",
      "91c830790c4d49099c7fb8db6f9f56b7",
      "b21aff40804146218cb92874e3c58834",
      "46c647d5bf4a4fa3bd1d22222126cb68",
      "74d5df1132d346a19cb15512f25c53b9",
      "f549a30ae9ef4e5fb4dd092a7172dc9d",
      "595c6a2557e549a591b957cd33e631e2",
      "444f2b9f784d42c589178465c0538c5f",
      "477501e3e984445fa9a6e96a75068bbd",
      "5ba39776993f4988a4d6c53cf66cf46e",
      "9ebf873c86824fbf86813ac44c187368",
      "f3ee48981c4f4b078dc548c0b8472747",
      "7c1777aabbb7426a98d6f8507392df7e",
      "10a09fcd03d04fcf936ff1b47377e038",
      "fb06bae48dce4d5883cf9e952c566f7e",
      "e887ce80102c48a9bcfae4ff49c1d66b",
      "bb26d8ef5a68453894af552ae7aa9a29",
      "d7e57709c3374d4dbc06363b3ceb229e",
      "68676aeea1574a16b7ab347332f32fd9",
      "ebac146d83b0430295b5f3d3426ae789",
      "57518c3d826647789a9870e2058b8b5a",
      "653529b99c2440a5a8c86b76cca8d27c",
      "d0193c4cb1874fd8b1f2cf5f17ecf369",
      "9342eb5f1ef8474c8d5eb7e0ccf19048",
      "975fc80921a74feca6f2fc00d050786e",
      "7b8426b6805546d79b4eedb9e9825d4f",
      "794c8447b8e14404a07cc79d8d791c61",
      "1045ea40d0914788988f8ac06a659a74",
      "54ed9920a1bf452db09443d63f41de5f",
      "ecc54061e1974a43bc50c697213d23ba",
      "d688a8068c404dd7b79180f339c05437",
      "e0b52786effc4a01a557d86e8e2e6c19",
      "bb0752e4625f4ad8a3b8abf7237e1ea7",
      "ecfb028b5877481fb25b040d8b6dd2a5",
      "430a95b262d84bcd8760ff29cc14e96f",
      "cd0ac0d0b6fc4c6da5526019be6c7ffb",
      "13d70eb535684c2d93b7794d9052dc26",
      "8246f94800cd4e51bc1569995e977365",
      "9c91de7253574dc68859e0ef78daadb7",
      "6628b4eb20c54e938889be338502b346",
      "ca308b715c1f4037aafa7f6b0727be27",
      "edcca1ffe18d4ce0a58a6e773f9dc0fa",
      "e9a1b8598bac43de8b8e90540f2bcdc6",
      "27aecf0c5edf418b99a7fbf61ed4d1bd",
      "41a4de515cbf43a293aeb4f4d245f08f",
      "79577610c4374911be07c3074d1ed542",
      "02c520efc42a45a6b3a43c4ab471f48f",
      "8ccf56ce8eda42f38691b3192c4bfebb",
      "97d73157e9ed4da186b8795f4b652d10",
      "b1831795b3624e42b0ca3570475209d2",
      "8a99b4107c5e4a5b99cd45b95bb50760",
      "4b70d91ed7c04e9e803cee575dd4aaa4",
      "31734e3d8ca948fe84daa7bd2abb9524",
      "1d073365a04846f4bc34882848cbde9b",
      "7b77de4b71b543d182675c5e9c7c2c9b",
      "f551b619bbfd43a59cbde2d516e15812",
      "4f635f53826145e2bdf24d28a3f9e19a"
     ]
    },
    "id": "vtDBJ1XX07pS",
    "outputId": "dd6c7384-3c92-4763-9777-696ec1a7ca46"
   },
   "outputs": [
    {
     "name": "stderr",
     "output_type": "stream",
     "text": [
      "/usr/local/lib/python3.11/dist-packages/huggingface_hub/utils/_auth.py:94: UserWarning: \n",
      "The secret `HF_TOKEN` does not exist in your Colab secrets.\n",
      "To authenticate with the Hugging Face Hub, create a token in your settings tab (https://huggingface.co/settings/tokens), set it as secret in your Google Colab and restart your session.\n",
      "You will be able to reuse this secret in all of your notebooks.\n",
      "Please note that authentication is recommended but still optional to access public models or datasets.\n",
      "  warnings.warn(\n"
     ]
    },
    {
     "data": {
      "application/vnd.jupyter.widget-view+json": {
       "model_id": "10fe9af633ea444ba3ae7363f56396a4",
       "version_major": 2,
       "version_minor": 0
      },
      "text/plain": [
       "tokenizer_config.json:   0%|          | 0.00/26.0 [00:00<?, ?B/s]"
      ]
     },
     "metadata": {},
     "output_type": "display_data"
    },
    {
     "data": {
      "application/vnd.jupyter.widget-view+json": {
       "model_id": "b21aff40804146218cb92874e3c58834",
       "version_major": 2,
       "version_minor": 0
      },
      "text/plain": [
       "config.json:   0%|          | 0.00/1.15k [00:00<?, ?B/s]"
      ]
     },
     "metadata": {},
     "output_type": "display_data"
    },
    {
     "data": {
      "application/vnd.jupyter.widget-view+json": {
       "model_id": "10a09fcd03d04fcf936ff1b47377e038",
       "version_major": 2,
       "version_minor": 0
      },
      "text/plain": [
       "vocab.json:   0%|          | 0.00/899k [00:00<?, ?B/s]"
      ]
     },
     "metadata": {},
     "output_type": "display_data"
    },
    {
     "data": {
      "application/vnd.jupyter.widget-view+json": {
       "model_id": "975fc80921a74feca6f2fc00d050786e",
       "version_major": 2,
       "version_minor": 0
      },
      "text/plain": [
       "merges.txt:   0%|          | 0.00/456k [00:00<?, ?B/s]"
      ]
     },
     "metadata": {},
     "output_type": "display_data"
    },
    {
     "data": {
      "application/vnd.jupyter.widget-view+json": {
       "model_id": "cd0ac0d0b6fc4c6da5526019be6c7ffb",
       "version_major": 2,
       "version_minor": 0
      },
      "text/plain": [
       "tokenizer.json:   0%|          | 0.00/1.36M [00:00<?, ?B/s]"
      ]
     },
     "metadata": {},
     "output_type": "display_data"
    },
    {
     "data": {
      "application/vnd.jupyter.widget-view+json": {
       "model_id": "02c520efc42a45a6b3a43c4ab471f48f",
       "version_major": 2,
       "version_minor": 0
      },
      "text/plain": [
       "model.safetensors:   0%|          | 0.00/1.63G [00:00<?, ?B/s]"
      ]
     },
     "metadata": {},
     "output_type": "display_data"
    },
    {
     "name": "stdout",
     "output_type": "stream",
     "text": [
      "cuda\n"
     ]
    },
    {
     "name": "stderr",
     "output_type": "stream",
     "text": [
      "Passing a tuple of `past_key_values` is deprecated and will be removed in Transformers v4.58.0. You should pass an instance of `EncoderDecoderCache` instead, e.g. `past_key_values=EncoderDecoderCache.from_legacy_cache(past_key_values)`.\n"
     ]
    },
    {
     "name": "stdout",
     "output_type": "stream",
     "text": [
      "Accuracy: 0.6536\n"
     ]
    }
   ],
   "source": [
    "import pandas as pd\n",
    "import torch\n",
    "import torch.nn.functional as F\n",
    "from transformers import AutoTokenizer, AutoModelForSequenceClassification\n",
    "from sklearn.metrics import accuracy_score\n",
    "\n",
    "# Paths to your filtered TSV files\n",
    "SLANG_FILE = \"/content/slang_OpenSub_filtered.tsv\"\n",
    "NON_SLANG_FILE = \"/content/slang_OpenSub_negatives_filtered.tsv\"\n",
    "\n",
    "# 1) Load both datasets\n",
    "df_slang = pd.read_csv(SLANG_FILE, sep=\"\\t\", dtype=str)\n",
    "df_nonslang = pd.read_csv(NON_SLANG_FILE, sep=\"\\t\", dtype=str)\n",
    "\n",
    "# 2) Assign labels: 1 = slang, 0 = non-slang\n",
    "df_slang[\"label\"] = 1\n",
    "df_nonslang[\"label\"] = 0\n",
    "\n",
    "# 3) Concatenate into one DataFrame\n",
    "df_all = pd.concat([df_slang, df_nonslang], ignore_index=True)\n",
    "\n",
    "# 4) Extract sentences and true labels\n",
    "sentences = df_all[\"SENTENCE\"].tolist()\n",
    "true_labels = df_all[\"label\"].tolist()\n",
    "\n",
    "# 5) Load tokenizer & model (PyTorch) for zero-shot (MNLI) classification\n",
    "tokenizer = AutoTokenizer.from_pretrained(\"facebook/bart-large-mnli\")\n",
    "model = AutoModelForSequenceClassification.from_pretrained(\"facebook/bart-large-mnli\")\n",
    "model.eval()\n",
    "device = torch.device(\"cuda\" if torch.cuda.is_available() else \"cpu\")\n",
    "model.to(device)\n",
    "print(device)\n",
    "\n",
    "candidate_labels = [\"slang\", \"non-slang\"]\n",
    "\n",
    "def zero_shot_classify(sentence: str, labels: list[str]) -> int:\n",
    "    \"\"\"\n",
    "    Returns 1 if 'slang' is predicted, 0 if 'non-slang' is predicted.\n",
    "    We encode each (sentence, hypothesis) pair, run through the MNLI head,\n",
    "    and pick the label whose entailment logit is highest.\n",
    "    \"\"\"\n",
    "    # Build hypotheses like \"This example is slang.\" and \"This example is non-slang.\"\n",
    "    hypotheses = [f\"This example is {lbl}.\" for lbl in labels]\n",
    "    # Tokenize: pair each hypothesis with the same sentence\n",
    "    encoded = tokenizer(\n",
    "        [sentence] * len(hypotheses),\n",
    "        hypotheses,\n",
    "        return_tensors=\"pt\",\n",
    "        padding=True,\n",
    "        truncation=True,\n",
    "        max_length=256\n",
    "    ).to(device)\n",
    "\n",
    "    with torch.no_grad():\n",
    "        outputs = model(**encoded)\n",
    "        logits = outputs.logits  # shape: (len(labels), 3)\n",
    "        # For BART-MNLI, the label mapping is [contradiction, neutral, entailment]\n",
    "        entail_logits = logits[:, 2]  # get \"entailment\" logit for each hypothesis\n",
    "        probs = F.softmax(entail_logits, dim=0)  # softmax over the entailment scores\n",
    "        best_idx = torch.argmax(probs).item()\n",
    "\n",
    "    return 1 if labels[best_idx] == \"slang\" else 0\n",
    "\n",
    "# 6) Run all sentences through zero-shot classifier\n",
    "predicted_labels = []\n",
    "for sent in sentences:\n",
    "    pred = zero_shot_classify(sent, candidate_labels)\n",
    "    predicted_labels.append(pred)\n",
    "\n",
    "# 7) Compute and print accuracy\n",
    "acc = accuracy_score(true_labels, predicted_labels)\n",
    "print(f\"Accuracy: {acc:.4f}\")\n"
   ]
  },
  {
   "cell_type": "markdown",
   "metadata": {
    "id": "knAXNOM_xMsl"
   },
   "source": [
    "# ***BERT-base-MNLI: textattack/bert-base-uncased-MNLI, RoBERTa-large:roberta-large-mnli zero-shot accuracy***\n"
   ]
  },
  {
   "cell_type": "code",
   "execution_count": 3,
   "metadata": {
    "colab": {
     "base_uri": "https://localhost:8080/",
     "height": 686,
     "referenced_widgets": [
      "973bcff8704247bea1b09dd677a1081a",
      "a23f791c4c6348f88b8f9f72162e25d0",
      "dba92b9747e14fd49a836d1e1c04c51d",
      "f47ef3b1b14b4c3a9b7ac8609e210561",
      "9d08f18e2ece481bab23664f10f19d49",
      "f43897b3ba124be782c511e6a8a9e343",
      "5f3c697d8a9d44beacb175aeb82fde53",
      "574e0416b42e4330bdeb6b3bff4fcc70",
      "31a43dae521c4a9586faa5aaa7570cca",
      "865d8e0907774c67b9a218af901d6cf2",
      "f0aeb4c31e2c4d05b0cfd598bb204efd",
      "c8550c03b8e24e24825c57e9247080e2",
      "545c70d362f043d6a7110610a4aafcf7",
      "f3373099c3f244f2af2f8c998a931ed0",
      "232a4481238e45d1aba830e25a3743af",
      "7bd7be00d7ad444f94814a63c0428be0",
      "0e9b2b3a62aa458aa8456d00bc2ce07e",
      "90a86ea7a472488888ea0aa022783b9a",
      "196588c4cc6c4aee9e07158724996c2a",
      "4a81bc68d0e74c16a06cb94594418b7a",
      "d6e35e01c3c241bfbddc09ff1c887672",
      "0d5b6ee313cf4ff3b31bcc524f3e3e04",
      "57fca43005d8431fad164075dae66327",
      "653e972ad9324b1c83c99c66993700e1",
      "c07c7906e4524c4dabfa973dbcdd6f84",
      "85040b0043db41d4b460593541cd2fdc",
      "5d54a1f77537437987533a707c6a3da7",
      "4f0bcb6c238e4f9b95ad7fbf5b22846c",
      "5ce7a495e97842b49f765bfa130e0247",
      "3616c1868630430aa24283e8fcc956ff",
      "859736830fcb4de88197e7805db17818",
      "c0a3cd0682bd424585578d798529bb07",
      "af2232064b9b4db7a00ed15c3642cfca",
      "97247f59cb9146b9b8da520d025bd413",
      "8187b1fdf63945c895a82040ced7328d",
      "87507b739be64e018df19bf9471406b5",
      "eeeaa2bef480495e9d3d1423d473c50d",
      "9f6e1211cd0e4c96b106353c2c8b989a",
      "0c28fa6ed4cc41fa8c65f15eb177aeb4",
      "f63bbe42336d4b61bd952827ad63acff",
      "58e283d980894191a8bfecdc55dfd2d0",
      "623e2712d2f6406da677ee20d82e435e",
      "ac325c7613b2425a8d12ab4db33f815a",
      "ebed67c425b040e6b7c27bb631d1219e",
      "91d9536a946147f89b41242b45e9d700",
      "747d38f8650f46739980a2ddb8bb5e84",
      "6380aebcb0034402b2b998844122aeea",
      "e75aba03a4534861bc674578de3429be",
      "de6269d6cf88439ea499af67813ec809",
      "af7570c479584b0b84237b9dc319c48c",
      "009f67b6295845ebb29b75218cec5fc4",
      "a5f47061ef444028898a0da46b722d9f",
      "ccfb2047c1214398a6cdc08c307b94b7",
      "99348bd9dda94de4a1b1bc0b2be07650",
      "ed232c0471fa40bcb0ba836241e76b79",
      "15a071b1e4b7411fb1ad1c63d8baedcd",
      "ab8b111fa912438196b9166b7900525d",
      "b18cc8b3a44747b9bb6437034a92d1ff",
      "d69f29a4a9a04a68999eb1caec10f1ea",
      "9d43dee8b25e4baabce56b75412792ba",
      "2f83749dfe5a4150895412db78908ac7",
      "07d79b7576474662b0ded7a29bd403e0",
      "73fa15c1e8f049268bbe3a07391ef8a6",
      "d60c41c6360e4d2f972f1f62c0e1b5f6",
      "443e897899cb4b17857207da8222dfca",
      "798f82ea6516442fbd7cbe858952b356",
      "143209d5e1fa413890a57ab9fc7bca4e",
      "30862b2fb3d348ca924a9ef8cb651954",
      "bd6c11ff6e0d456e8b30d0556d19909a",
      "7846e70edbf84490abe4ea12c36103dc",
      "f02417658e764388a1c061ba8101d004",
      "e5e69db52a984d549a7121d79bedbd77",
      "439265d4d6b94bb0b068f383b708bbf9",
      "e7ca5fdbab2343948bae4d92b1f25cad",
      "9e373febf6124d3d8b9394526e2a43cd",
      "d465261facf74272984c5d1eead5a588",
      "2e7d87420f604df39e5c0a4152d703da",
      "bb3c350a61e941bbae82650ed4c0f04a",
      "b9bc6ae0fa894e79bac1c3f78cce4a51",
      "84627f0dc9f34f31977604ebdd5d59fc",
      "78cd00a25f40489383f0882b3319af03",
      "d2359ab4b9ac40048a97ba418aa743bd",
      "605d5c6d4dcf400d8124fc2003546541",
      "c614785602c54ff39695ce1534948435",
      "b624198e995c4d4cb455dfbb4af8ab62",
      "61a7f89c98ed4ea29d15755e8f3633ae",
      "360a5ccbcf784bd6b41945108b8133fd",
      "e71b00b8cd044995a7ac8b8f39f5892b",
      "ce0c8d9225f64adf9957f92dc3c27f67",
      "48ed5fc95e874b65bbe5b5adf3252ffc",
      "210a816b29fc4cf08f7910877d9e5137",
      "154c8a47a6454064b2cb0f608decb830",
      "03bb0579637b40d8bbddd6a1d8b6d413",
      "ad2a5ee3e984429b87163a4db152b83a",
      "311a8abcea454776ae80475dece68f81",
      "d44763fee0d9404186c6ed6921a69933",
      "a3c4243d937c41988645ec621a339389",
      "985d1b474ecb4645aeedec2e263ff6d0",
      "af39a75911eb4f4eb12ddb41f671d11d",
      "e774990290604a69beed78266326b3c4",
      "57b6a4f2a94246e5bc0a801bf33a2aea",
      "df5d11616a374356ac1000bb0c192d22",
      "f818c8a901d641259dfe66c39c9274ee",
      "9d6fae83c7a6476ab7c8b5cdeead641b",
      "4659cbd2c51849939768580155f14190",
      "b59e826f0a9d45d6976146e6121942ea",
      "964d241cd6704fd4a7693c87c34da04e",
      "52c7dd60607d402483e75c9469a1c73c",
      "148c196ae2ce4f39ae80971a455ca099",
      "67247863d9f9478dbd4bc38cebc26096",
      "8e7b063578544c34a125db2269a7f504",
      "8189863ac53541ee8df322ae20dcf652",
      "f2fc7daddde34370a3c15c37b20ea6a7",
      "2d22598c516f4c6aa78c24d1c8235280",
      "b4395a42df7f4224a5d4efc5d814dd2e",
      "c032734eb35a477685e8c2929bb1869f",
      "e2544bd1880d40f796fa8397a15992e6",
      "a6593666974e4690bf3943787b0099ba",
      "9bbcc8f5c57e4916901a5d21bc10a2a2",
      "ee221655585a449f83afe3f141246d24",
      "75316078fed4410eb989d3eab1169f28",
      "a56b00d1e07b48499bcae6b4b5c54f66",
      "a95438be4d8c443c9a3149e34ef46212",
      "f03b8640b4be4443bba7a641c747fe32",
      "416f76a44d5645e7af532d5a59a31241",
      "768beed1b21c479493b553380c16758d",
      "2078422ec48442a5bb1b032ee565ad2b",
      "0fff5e2d61614a6fb510ff23eb7b1468",
      "bae9924696c2431cafbcce0f979cd0de",
      "dd105ed71500492980d52d0a3b4696d9",
      "6bf093fe672f4d35afe46c20e84c7e75",
      "9bd9249b19d945a6aca243becd67220d",
      "d742b2bd66504934bfd6550dbdbb9009",
      "44ba077784314aaebf52b00b571e1f17",
      "9ba2435dd9e24ad8ae8dc9df6364866b",
      "736160950ef042d0bb1b275b04bb038d",
      "e94bbfd3d0b143ad9a556599c39dbcce",
      "5060ed1e1ea04e5d97db09752aef6040",
      "7f03be15363f45efae82fdad67fce154",
      "b492cc54a0634676978461ee49d08a72",
      "2a62485bb2e84897ad4bb12d552b66df",
      "621525eb5f3a4481a87002b519e9e996",
      "a63207db165746d59d0729a2de9393bd",
      "61dae5ffa7c84199be7d79a572467adb",
      "5fbcbc8e182147f8a9f34d7a67d2beb7",
      "6d2d964ef7df4629b73a897e6b9b8c68",
      "3cf88f4b04a5463894696bf91462c3a1",
      "7eeafddfc6354643b93a4a8e1589e278",
      "fccba240bf074acda412ed7457583476",
      "4a045af1a4e24b71825f6190890939b5",
      "2e94f4f1157b4c6e96d18b0811f1cf94",
      "a870afdbae0045669f317fcf5ec3d70e",
      "7ddc8f0ab12b4cb4a2c50e00b91841e2",
      "ecf117c228b14da4b82882b66ff37548"
     ]
    },
    "id": "eN0Q1fQhvKoy",
    "outputId": "7f1b4155-351e-47d2-d644-8ce8d3cf0522"
   },
   "outputs": [
    {
     "name": "stderr",
     "output_type": "stream",
     "text": [
      "/usr/local/lib/python3.11/dist-packages/huggingface_hub/utils/_auth.py:94: UserWarning: \n",
      "The secret `HF_TOKEN` does not exist in your Colab secrets.\n",
      "To authenticate with the Hugging Face Hub, create a token in your settings tab (https://huggingface.co/settings/tokens), set it as secret in your Google Colab and restart your session.\n",
      "You will be able to reuse this secret in all of your notebooks.\n",
      "Please note that authentication is recommended but still optional to access public models or datasets.\n",
      "  warnings.warn(\n"
     ]
    },
    {
     "data": {
      "application/vnd.jupyter.widget-view+json": {
       "model_id": "973bcff8704247bea1b09dd677a1081a",
       "version_major": 2,
       "version_minor": 0
      },
      "text/plain": [
       "tokenizer_config.json:   0%|          | 0.00/48.0 [00:00<?, ?B/s]"
      ]
     },
     "metadata": {},
     "output_type": "display_data"
    },
    {
     "data": {
      "application/vnd.jupyter.widget-view+json": {
       "model_id": "c8550c03b8e24e24825c57e9247080e2",
       "version_major": 2,
       "version_minor": 0
      },
      "text/plain": [
       "config.json:   0%|          | 0.00/630 [00:00<?, ?B/s]"
      ]
     },
     "metadata": {},
     "output_type": "display_data"
    },
    {
     "data": {
      "application/vnd.jupyter.widget-view+json": {
       "model_id": "57fca43005d8431fad164075dae66327",
       "version_major": 2,
       "version_minor": 0
      },
      "text/plain": [
       "vocab.txt:   0%|          | 0.00/232k [00:00<?, ?B/s]"
      ]
     },
     "metadata": {},
     "output_type": "display_data"
    },
    {
     "data": {
      "application/vnd.jupyter.widget-view+json": {
       "model_id": "97247f59cb9146b9b8da520d025bd413",
       "version_major": 2,
       "version_minor": 0
      },
      "text/plain": [
       "special_tokens_map.json:   0%|          | 0.00/112 [00:00<?, ?B/s]"
      ]
     },
     "metadata": {},
     "output_type": "display_data"
    },
    {
     "data": {
      "application/vnd.jupyter.widget-view+json": {
       "model_id": "91d9536a946147f89b41242b45e9d700",
       "version_major": 2,
       "version_minor": 0
      },
      "text/plain": [
       "pytorch_model.bin:   0%|          | 0.00/438M [00:00<?, ?B/s]"
      ]
     },
     "metadata": {},
     "output_type": "display_data"
    },
    {
     "data": {
      "application/vnd.jupyter.widget-view+json": {
       "model_id": "15a071b1e4b7411fb1ad1c63d8baedcd",
       "version_major": 2,
       "version_minor": 0
      },
      "text/plain": [
       "BERT-base-MNLI:   0%|          | 0/3617 [00:00<?, ?it/s]"
      ]
     },
     "metadata": {},
     "output_type": "display_data"
    },
    {
     "data": {
      "application/vnd.jupyter.widget-view+json": {
       "model_id": "143209d5e1fa413890a57ab9fc7bca4e",
       "version_major": 2,
       "version_minor": 0
      },
      "text/plain": [
       "model.safetensors:   0%|          | 0.00/438M [00:00<?, ?B/s]"
      ]
     },
     "metadata": {},
     "output_type": "display_data"
    },
    {
     "name": "stdout",
     "output_type": "stream",
     "text": [
      "BERT-base-MNLI        accuracy = 0.4075\n"
     ]
    },
    {
     "data": {
      "application/vnd.jupyter.widget-view+json": {
       "model_id": "bb3c350a61e941bbae82650ed4c0f04a",
       "version_major": 2,
       "version_minor": 0
      },
      "text/plain": [
       "tokenizer_config.json:   0%|          | 0.00/25.0 [00:00<?, ?B/s]"
      ]
     },
     "metadata": {},
     "output_type": "display_data"
    },
    {
     "data": {
      "application/vnd.jupyter.widget-view+json": {
       "model_id": "ce0c8d9225f64adf9957f92dc3c27f67",
       "version_major": 2,
       "version_minor": 0
      },
      "text/plain": [
       "config.json:   0%|          | 0.00/688 [00:00<?, ?B/s]"
      ]
     },
     "metadata": {},
     "output_type": "display_data"
    },
    {
     "data": {
      "application/vnd.jupyter.widget-view+json": {
       "model_id": "e774990290604a69beed78266326b3c4",
       "version_major": 2,
       "version_minor": 0
      },
      "text/plain": [
       "vocab.json:   0%|          | 0.00/899k [00:00<?, ?B/s]"
      ]
     },
     "metadata": {},
     "output_type": "display_data"
    },
    {
     "data": {
      "application/vnd.jupyter.widget-view+json": {
       "model_id": "8e7b063578544c34a125db2269a7f504",
       "version_major": 2,
       "version_minor": 0
      },
      "text/plain": [
       "merges.txt:   0%|          | 0.00/456k [00:00<?, ?B/s]"
      ]
     },
     "metadata": {},
     "output_type": "display_data"
    },
    {
     "data": {
      "application/vnd.jupyter.widget-view+json": {
       "model_id": "a56b00d1e07b48499bcae6b4b5c54f66",
       "version_major": 2,
       "version_minor": 0
      },
      "text/plain": [
       "tokenizer.json:   0%|          | 0.00/1.36M [00:00<?, ?B/s]"
      ]
     },
     "metadata": {},
     "output_type": "display_data"
    },
    {
     "data": {
      "application/vnd.jupyter.widget-view+json": {
       "model_id": "d742b2bd66504934bfd6550dbdbb9009",
       "version_major": 2,
       "version_minor": 0
      },
      "text/plain": [
       "model.safetensors:   0%|          | 0.00/1.43G [00:00<?, ?B/s]"
      ]
     },
     "metadata": {},
     "output_type": "display_data"
    },
    {
     "name": "stderr",
     "output_type": "stream",
     "text": [
      "Some weights of the model checkpoint at roberta-large-mnli were not used when initializing RobertaForSequenceClassification: ['roberta.pooler.dense.bias', 'roberta.pooler.dense.weight']\n",
      "- This IS expected if you are initializing RobertaForSequenceClassification from the checkpoint of a model trained on another task or with another architecture (e.g. initializing a BertForSequenceClassification model from a BertForPreTraining model).\n",
      "- This IS NOT expected if you are initializing RobertaForSequenceClassification from the checkpoint of a model that you expect to be exactly identical (initializing a BertForSequenceClassification model from a BertForSequenceClassification model).\n"
     ]
    },
    {
     "data": {
      "application/vnd.jupyter.widget-view+json": {
       "model_id": "61dae5ffa7c84199be7d79a572467adb",
       "version_major": 2,
       "version_minor": 0
      },
      "text/plain": [
       "RoBERTa-large:   0%|          | 0/3617 [00:00<?, ?it/s]"
      ]
     },
     "metadata": {},
     "output_type": "display_data"
    },
    {
     "name": "stdout",
     "output_type": "stream",
     "text": [
      "RoBERTa-large         accuracy = 0.4487\n"
     ]
    }
   ],
   "source": [
    "# 📒 0. Colab setup – one-time\n",
    "!pip install -q transformers scikit-learn tqdm  # <1 min\n",
    "\n",
    "# 📒 1. Imports & file paths\n",
    "import pandas as pd, torch, torch.nn.functional as F\n",
    "from transformers import AutoTokenizer, AutoModelForSequenceClassification\n",
    "from sklearn.metrics import accuracy_score\n",
    "from tqdm.auto import tqdm\n",
    "\n",
    "SLANG_FILE      = \"/content/slang_OpenSub_filtered.tsv\"\n",
    "NON_SLANG_FILE  = \"/content/slang_OpenSub_negatives_filtered.tsv\"\n",
    "\n",
    "# 📒 2. Load data + labels\n",
    "df_slang  = pd.read_csv(SLANG_FILE, sep=\"\\t\", dtype=str)\n",
    "df_neg    = pd.read_csv(NON_SLANG_FILE, sep=\"\\t\", dtype=str)\n",
    "df_slang[\"label\"] = 1             # slang\n",
    "df_neg[\"label\"]   = 0             # non-slang\n",
    "df = pd.concat([df_slang, df_neg], ignore_index=True)\n",
    "\n",
    "sentences   = df[\"SENTENCE\"].tolist()\n",
    "gold_labels = df[\"label\"].tolist()\n",
    "\n",
    "# 📒 3. Helper: zero-shot NLI → binary label\n",
    "def build_classifier(model_name):\n",
    "    tok = AutoTokenizer.from_pretrained(model_name)\n",
    "    mdl = AutoModelForSequenceClassification.from_pretrained(model_name)\n",
    "    mdl.to(device := torch.device(\"cuda\" if torch.cuda.is_available() else \"cpu\")).eval()\n",
    "    return tok, mdl, device\n",
    "\n",
    "def predict_sentence(tok, mdl, device, sent):\n",
    "    hyps = [\"This example is slang.\", \"This example is non-slang.\"]\n",
    "    enc  = tok([sent]*2, hyps, return_tensors=\"pt\",\n",
    "               padding=True, truncation=True, max_length=256).to(device)\n",
    "    with torch.no_grad():\n",
    "        logits = mdl(**enc).logits[:, 2]          # entailment logit\n",
    "    return int(torch.argmax(F.softmax(logits, dim=0)).item() == 0)  # 1 = slang\n",
    "\n",
    "# 📒 4. Evaluate both models\n",
    "models = {\n",
    "    \"BERT-base-MNLI\":  \"textattack/bert-base-uncased-MNLI\",\n",
    "    \"RoBERTa-large\":   \"roberta-large-mnli\",\n",
    "}\n",
    "\n",
    "for nick, hub_id in models.items():\n",
    "    tok, mdl, dev = build_classifier(hub_id)\n",
    "    preds = [predict_sentence(tok, mdl, dev, s) for s in tqdm(sentences, desc=nick)]\n",
    "    acc   = accuracy_score(gold_labels, preds)\n",
    "    print(f\"{nick:20s}  accuracy = {acc:.4f}\")\n"
   ]
  },
  {
   "cell_type": "markdown",
   "metadata": {
    "id": "9LJl9W_nx1gC"
   },
   "source": [
    "# ***DeBERTa-v3-large (MNLI-fine-tuned) zero-shot accuracy***\n"
   ]
  },
  {
   "cell_type": "code",
   "execution_count": 4,
   "metadata": {
    "colab": {
     "base_uri": "https://localhost:8080/",
     "height": 291,
     "referenced_widgets": [
      "28a886e3a803493ba3eda1323083ecb4",
      "f9479f09c714462f8f99a0f2c1c40dec",
      "3f7dee7731b8485cbf638c21ff473407",
      "47f160463dfe489c992b6276d544fbc4",
      "5d420c25f8cb43b5a15a5c141a14b2a5",
      "a0343b720c5248fb9dc5b220abba228c",
      "4cd49000840247ed86dbd7a7656c6ac9",
      "65c872d56e92460c8e6b3a5705e18ec7",
      "dc622ba42dde4c42a87ccf722da5012f",
      "e92c0bed7d36451ab362a8226c71d608",
      "c847a6b849144b10a28b95eaa43a5622",
      "383d535049e644969f5b99bd4a2a7d71",
      "026c02ab51604af1af351dbd9b75a921",
      "ca7642b1c9a343f5b4fdb6f82605e770",
      "3fb2eb5c1c774f768b76081fe752b3f4",
      "de33b6c0326f4eb1bfc7dd10548c51df",
      "c97d3170108e4e12b0c4d8650bc5a7dc",
      "073b4e29c1f947b2844b299653eeff66",
      "70799722e293413aafc238da2f04c1de",
      "9711429a814044598e8ca18e6f3a79b9",
      "220a0c7e121c413aaf3fbf84f952a61f",
      "14d597905a504e1fb8d6fc911db6033e",
      "a52465d54ba94cc680a17bf14a5312ec",
      "800cc5817c3944278ab611d5fd23a0f9",
      "30cfb576607946cb8b8116a97bc2cc6c",
      "00fbacf1a81c409ba700f3d2ab540268",
      "30c74424076d4351bb33e25a5b03ca4a",
      "8d49afb3541149b1b9ab1bf5177ec7b5",
      "149726d8312f4acab91e1e00f36cbc8a",
      "0bde3113abc540789fb79382c9658c8e",
      "59206cc6047c4e498993f2090e3e029f",
      "16aa29bb1065414da50030f38a83842d",
      "9b5bb2b09f6347e4b479747d267395ec",
      "03b4e5879c9b43538af1f5c861cb12b5",
      "9921f7c881a64153a1d06fd53582bad6",
      "14f8dc9d33a64b85aa00b31a0075bcd8",
      "4912f96b5cc64619b7f7790ce25ce720",
      "affd788a9fcf47a28676fa5b8f2e1163",
      "c847921ccf3845b28575ad8f99e94560",
      "205f5967fa03486992e4d26c4e0909d4",
      "7e47a4f475de424aa66d9446924b2181",
      "9702ff5ebd2b403598a81877e09e4d25",
      "bd4af45125d746dd83a70d82003552d4",
      "f44a00084d0d4166b03b653c23608787",
      "2226951fc68e4a1481cbe87951d312d8",
      "145a1b16a45e416fb74c9224b4105225",
      "08dd7e94f05641778a59defeaecd029d",
      "86ce51f0b0e3469f86ee39ea0ede7608",
      "894a0618d3224cddb7ea54083c972806",
      "c7621269bea74fb5811acca1bebfae02",
      "5c9e5f407bc34f1c85b870b4507f0602",
      "7e24ce6c6724422d93096e937fd73fce",
      "e78aca80845d46acaaea387bf0f7b7fb",
      "66eb83541c45478293e69b72f734773b",
      "fc71ed12de5d44d0930ab6f332ff035b",
      "b6cf394c3ce6483abd85025ec46f0eef",
      "2910861300b1435780b652e30e1e0c1f",
      "690f883b5c414e47a59726f63ad85a7e",
      "8f3988ef6c8845cd8463a30d1f3e8b18",
      "3e5c058a65c44a6e95da2d4cd40ca394",
      "0dc01b72fda942d3984d1e233c55ace4",
      "aea05596074345fb93c1312a23d1b2ec",
      "f20f0f6d4b274abeb55ddfa302e6953d",
      "e73d65049eec46dfb324da9512ea4d0b",
      "90879f3893cc45daa8bedfe44f16fa4d",
      "476f2456d0514f5d873eb92cd167cc0c",
      "8688e43213ac49a3ab98be2d3a85d44d",
      "a144d08ade8a4dd48dea20c5ca5f230f",
      "2f185ad148b74186bcc1a955ada91719",
      "81999f8ef5fb45f0ab7cd50a48af423a",
      "44df6eb42a774657a72f9641a542545e",
      "2b7afaa0500a4bdd8b1fe4ba75c7d846",
      "b96528ddba124bd1afec2da0415b3598",
      "6a0a2d231f1d4bd19f25d644a00b44e7",
      "92869381cdcd4dcebebd3336b523c62e",
      "acab316d75954761b860eda1c633a9a2",
      "10d62c5f6253494eae313929d8502283",
      "8809053b874f4781ba5132732b99d574",
      "7aa90c1adab545859694526eaaf434fd",
      "50ff49d623504defa88e6c8544682c95",
      "d83fb51071e74692a7708262a1ca2afb",
      "8d6b7398282b46f6b8a836064cb78a6a",
      "cc3e6d5c7bfc44579b0b575eea65fe52",
      "504159de53f14756a4470b85961d1862",
      "bae2a391d50a47c29904f2f31dd31e61",
      "f4bc264ef2b6497ab35422563c41620c",
      "5dfc1a9449c349a9b1860e45e4682223",
      "d41745e7ae894a21a81d6a6a35a2d0ed"
     ]
    },
    "id": "-bhIadG_wSPN",
    "outputId": "13e858bf-5b01-469e-c5cb-4adbedd36953"
   },
   "outputs": [
    {
     "data": {
      "application/vnd.jupyter.widget-view+json": {
       "model_id": "28a886e3a803493ba3eda1323083ecb4",
       "version_major": 2,
       "version_minor": 0
      },
      "text/plain": [
       "tokenizer_config.json:   0%|          | 0.00/395 [00:00<?, ?B/s]"
      ]
     },
     "metadata": {},
     "output_type": "display_data"
    },
    {
     "data": {
      "application/vnd.jupyter.widget-view+json": {
       "model_id": "383d535049e644969f5b99bd4a2a7d71",
       "version_major": 2,
       "version_minor": 0
      },
      "text/plain": [
       "spm.model:   0%|          | 0.00/2.46M [00:00<?, ?B/s]"
      ]
     },
     "metadata": {},
     "output_type": "display_data"
    },
    {
     "data": {
      "application/vnd.jupyter.widget-view+json": {
       "model_id": "a52465d54ba94cc680a17bf14a5312ec",
       "version_major": 2,
       "version_minor": 0
      },
      "text/plain": [
       "tokenizer.json:   0%|          | 0.00/8.65M [00:00<?, ?B/s]"
      ]
     },
     "metadata": {},
     "output_type": "display_data"
    },
    {
     "data": {
      "application/vnd.jupyter.widget-view+json": {
       "model_id": "03b4e5879c9b43538af1f5c861cb12b5",
       "version_major": 2,
       "version_minor": 0
      },
      "text/plain": [
       "added_tokens.json:   0%|          | 0.00/18.0 [00:00<?, ?B/s]"
      ]
     },
     "metadata": {},
     "output_type": "display_data"
    },
    {
     "data": {
      "application/vnd.jupyter.widget-view+json": {
       "model_id": "2226951fc68e4a1481cbe87951d312d8",
       "version_major": 2,
       "version_minor": 0
      },
      "text/plain": [
       "special_tokens_map.json:   0%|          | 0.00/156 [00:00<?, ?B/s]"
      ]
     },
     "metadata": {},
     "output_type": "display_data"
    },
    {
     "data": {
      "application/vnd.jupyter.widget-view+json": {
       "model_id": "b6cf394c3ce6483abd85025ec46f0eef",
       "version_major": 2,
       "version_minor": 0
      },
      "text/plain": [
       "config.json:   0%|          | 0.00/1.06k [00:00<?, ?B/s]"
      ]
     },
     "metadata": {},
     "output_type": "display_data"
    },
    {
     "data": {
      "application/vnd.jupyter.widget-view+json": {
       "model_id": "8688e43213ac49a3ab98be2d3a85d44d",
       "version_major": 2,
       "version_minor": 0
      },
      "text/plain": [
       "model.safetensors:   0%|          | 0.00/870M [00:00<?, ?B/s]"
      ]
     },
     "metadata": {},
     "output_type": "display_data"
    },
    {
     "data": {
      "application/vnd.jupyter.widget-view+json": {
       "model_id": "8809053b874f4781ba5132732b99d574",
       "version_major": 2,
       "version_minor": 0
      },
      "text/plain": [
       "DeBERTa-v3-large:   0%|          | 0/3617 [00:00<?, ?it/s]"
      ]
     },
     "metadata": {},
     "output_type": "display_data"
    },
    {
     "name": "stdout",
     "output_type": "stream",
     "text": [
      "Accuracy: 0.5939\n"
     ]
    }
   ],
   "source": [
    "# 📝 Imports & paths\n",
    "import pandas as pd, torch, torch.nn.functional as F\n",
    "from transformers import AutoTokenizer, AutoModelForSequenceClassification\n",
    "from sklearn.metrics import accuracy_score\n",
    "from tqdm.auto import tqdm\n",
    "\n",
    "SLANG_FILE      = \"/content/slang_OpenSub_filtered.tsv\"\n",
    "NON_SLANG_FILE  = \"/content/slang_OpenSub_negatives_filtered.tsv\"\n",
    "\n",
    "# 📂 Load data\n",
    "df_slang = pd.read_csv(SLANG_FILE, sep=\"\\t\", dtype=str)\n",
    "df_neg   = pd.read_csv(NON_SLANG_FILE, sep=\"\\t\", dtype=str)\n",
    "df_slang[\"label\"] = 1      # slang\n",
    "df_neg[\"label\"]   = 0      # non-slang\n",
    "df = pd.concat([df_slang, df_neg], ignore_index=True)\n",
    "\n",
    "sentences   = df[\"SENTENCE\"].tolist()\n",
    "gold_labels = df[\"label\"].tolist()\n",
    "\n",
    "# 🔍 Load DeBERTa-v3-large (MNLI-fine-tuned)\n",
    "MODEL_ID = \"MoritzLaurer/DeBERTa-v3-large-mnli-fever-anli-ling-wanli\"\n",
    "tok  = AutoTokenizer.from_pretrained(MODEL_ID)\n",
    "mdl  = AutoModelForSequenceClassification.from_pretrained(MODEL_ID)\n",
    "device = torch.device(\"cuda\" if torch.cuda.is_available() else \"cpu\")\n",
    "mdl.to(device).eval()\n",
    "\n",
    "# 🧮 Zero-shot NLI → slang / non-slang\n",
    "def predict(sent: str) -> int:\n",
    "    hyps = [\"This example is slang.\", \"This example is non-slang.\"]\n",
    "    enc  = tok([sent]*2, hyps, return_tensors=\"pt\",\n",
    "               padding=True, truncation=True, max_length=256).to(device)\n",
    "    with torch.no_grad():\n",
    "        logits = mdl(**enc).logits[:, 2]              # entailment logit\n",
    "    return int(torch.argmax(F.softmax(logits, dim=0)).item() == 0)  # 1 = slang\n",
    "\n",
    "# ⚡ Inference loop\n",
    "preds = [predict(s) for s in tqdm(sentences, desc=\"DeBERTa-v3-large\")]\n",
    "\n",
    "# 📊 Accuracy\n",
    "print(f\"Accuracy: {accuracy_score(gold_labels, preds):.4f}\")\n"
   ]
  }
 ],
 "metadata": {
  "accelerator": "GPU",
  "colab": {
   "gpuType": "T4",
   "provenance": [],
   "toc_visible": true
  },
  "kernelspec": {
   "display_name": "Python 3",
   "name": "python3"
  },
  "language_info": {
   "name": "python"
  }
 },
 "nbformat": 4,
 "nbformat_minor": 0
}
